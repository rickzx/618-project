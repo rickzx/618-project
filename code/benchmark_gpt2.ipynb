{
 "cells": [
  {
   "cell_type": "markdown",
   "metadata": {},
   "source": [
    "## GPT 2 End-to-end benchmarking"
   ]
  },
  {
   "cell_type": "markdown",
   "metadata": {},
   "source": [
    "## GPT 2 Benchmark for HF"
   ]
  },
  {
   "cell_type": "code",
   "execution_count": 1,
   "metadata": {},
   "outputs": [
    {
     "name": "stderr",
     "output_type": "stream",
     "text": [
      "/home/cfruan/.conda/envs/mlc-source-311/lib/python3.11/site-packages/tqdm/auto.py:21: TqdmWarning: IProgress not found. Please update jupyter and ipywidgets. See https://ipywidgets.readthedocs.io/en/stable/user_install.html\n",
      "  from .autonotebook import tqdm as notebook_tqdm\n"
     ]
    }
   ],
   "source": [
    "import torch\n",
    "import time\n",
    "from transformers import GPT2Tokenizer, GPT2LMHeadModel"
   ]
  },
  {
   "cell_type": "code",
   "execution_count": 2,
   "metadata": {},
   "outputs": [],
   "source": [
    "device = \"cuda:0\"\n",
    "# device = \"mps\"  # for M2 Ultra\n",
    "tokenizer = GPT2Tokenizer.from_pretrained('/ssd1/cfruan/models/gpt2-medium')\n",
    "model = GPT2LMHeadModel.from_pretrained('/ssd1/cfruan/models/gpt2-medium').to(device)"
   ]
  },
  {
   "cell_type": "code",
   "execution_count": 3,
   "metadata": {},
   "outputs": [],
   "source": [
    "FULL_GETTYSBURG_ADDRESS = \"\"\"\n",
    "Four score and seven years ago our fathers brought forth on this continent, a new nation, conceived in Liberty, and dedicated to the proposition that all men are created equal.\n",
    "\n",
    "Now we are engaged in a great civil war, testing whether that nation, or any nation so conceived and so dedicated, can long endure. We are met on a great battle-field of that war. We have come to dedicate a portion of that field, as a final resting place for those who here gave their lives that that nation might live. It is altogether fitting and proper that we should do this.\n",
    "\n",
    "But, in a larger sense, we can not dedicate -- we can not consecrate -- we can not hallow -- this ground. The brave men, living and dead, who struggled here, have consecrated it, far above our poor power to add or detract. The world will little note, nor long remember what we say here, but it can never forget what they did here. It is for us the living, rather, to be dedicated here to the unfinished work which they who fought here have thus far so nobly advanced. It is rather for us to be here dedicated to the great task remaining before us -- that from these honored dead we take increased devotion to that cause for which they gave the last full measure of devotion -- that we here highly resolve that these dead shall not have died in vain -- that this nation, under God, shall have a new birth of freedom -- and that government of the people, by the people, for the people, shall not perish from the earth.\n",
    "\"\"\""
   ]
  },
  {
   "cell_type": "code",
   "execution_count": 5,
   "metadata": {},
   "outputs": [
    {
     "name": "stderr",
     "output_type": "stream",
     "text": [
      "/home/cfruan/.conda/envs/mlc-source-311/lib/python3.11/site-packages/torch/nn/modules/module.py:1518: UserWarning: Implicit dimension choice for softmax has been deprecated. Change the call to include dim=X as an argument.\n",
      "  return self._call_impl(*args, **kwargs)\n"
     ]
    }
   ],
   "source": [
    "input = tokenizer(FULL_GETTYSBURG_ADDRESS)\n",
    "input_ids = torch.LongTensor(input[\"input_ids\"]).unsqueeze(0).to(model.device)\n",
    "\n",
    "# Prefill\n",
    "logits = model.forward(input_ids)[\"logits\"][0,-1].detach()\n",
    "next_token = torch.multinomial(torch.nn.Softmax()(logits), 1)\n",
    "\n",
    "# Decode\n",
    "GEN_LEN = 512\n",
    "decode_start = time.time()\n",
    "for _ in range(GEN_LEN):\n",
    "    logits = model.forward(next_token)[\"logits\"][-1].detach()\n",
    "    next_token = torch.multinomial(torch.nn.Softmax()(logits), 1)\n",
    "decode_end = time.time()"
   ]
  },
  {
   "cell_type": "code",
   "execution_count": 6,
   "metadata": {},
   "outputs": [
    {
     "name": "stdout",
     "output_type": "stream",
     "text": [
      "Decode speed: 75.165 tok/s\n"
     ]
    }
   ],
   "source": [
    "print(\"Decode speed: %.3f tok/s\" % (GEN_LEN / (decode_end - decode_start)))"
   ]
  },
  {
   "cell_type": "markdown",
   "metadata": {},
   "source": [
    "### CUDA benchmark for each TVM optimization\n",
    "\n",
    "We run the following tests by running the command: \n",
    "\n",
    "`python -m benchmark_gpt2 --model-lib ./dist/gpt2-xl-q0f32/gpt2-xl-q0f32-cuda.so --device cuda --generate-length 512`\n",
    "\n",
    "We substitute the model library with the one we want to benchmark. Each model library has a different dlight schedule. For each model library, we prefill the entire gettysburg address (322 tokens), and let the model generate 64 tokens."
   ]
  },
  {
   "cell_type": "markdown",
   "metadata": {},
   "source": [
    "The results are the following:\n",
    "- Full schedule: `gpt2-xl-q0f32-full-cuda.so`\n",
    "  - Prefill: 4419 tok/s\n",
    "  - Decode: 102.9 tok/s\n",
    "- Base schedule: `gpt2-xl-q0f32-base-cuda.so`\n",
    "  - Prefill: 70.0 tok/s\n",
    "  - Decode: 3.5 tok/s\n",
    "- Matmul-only schedule: `gpt2-xl-q0f32-matmul-cuda.so`\n",
    "  - Prefill: 3321.4 tok/s\n",
    "  - Decode: 3.5 tok/s\n",
    "- GEMV-only schedule: `gpt2-xl-q0f32-gemv-cuda.so`\n",
    "  - Prefill: 70.1 tok/s\n",
    "  - Decode: 53.5 tok/s\n",
    "- Reduction-only schedule: `gpt2-xl-q0f32-reduction-cuda.so`\n",
    "  - Prefill: 70.1 tok/s\n",
    "  - Decode: 60.7 tok/s\n",
    "\n",
    "Across platforms:\n",
    "- MacOS w/ Intel Chip:\n",
    "  - Prefill: 28.9 tok/s\n",
    "  - Decode: 1.1 tok/s\n",
    "- WebGPU on the same MacOS: \n",
    "  - Prefill 10.96 tok/s\n",
    "  - Decode: 0.81 tok/s"
   ]
  },
  {
   "cell_type": "markdown",
   "metadata": {},
   "source": [
    "There are several observations: optimizing matrix multiplication alone is enough to \n",
    "\n",
    "It makes sense that optimizing matrix multiplication only is enough to bump a significant amount of "
   ]
  }
 ],
 "metadata": {
  "kernelspec": {
   "display_name": "mlc-source-311",
   "language": "python",
   "name": "python3"
  },
  "language_info": {
   "codemirror_mode": {
    "name": "ipython",
    "version": 3
   },
   "file_extension": ".py",
   "mimetype": "text/x-python",
   "name": "python",
   "nbconvert_exporter": "python",
   "pygments_lexer": "ipython3",
   "version": "3.11.6"
  }
 },
 "nbformat": 4,
 "nbformat_minor": 2
}
